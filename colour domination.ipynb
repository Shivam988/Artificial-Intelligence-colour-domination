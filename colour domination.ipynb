{
 "cells": [
  {
   "cell_type": "code",
   "execution_count": 1,
   "id": "16bd7f8d",
   "metadata": {},
   "outputs": [
    {
     "ename": "ModuleNotFoundError",
     "evalue": "No module named 'imutils'",
     "output_type": "error",
     "traceback": [
      "\u001b[1;31m---------------------------------------------------------------------------\u001b[0m",
      "\u001b[1;31mModuleNotFoundError\u001b[0m                       Traceback (most recent call last)",
      "Input \u001b[1;32mIn [1]\u001b[0m, in \u001b[0;36m<cell line: 5>\u001b[1;34m()\u001b[0m\n\u001b[0;32m      3\u001b[0m \u001b[38;5;28;01mimport\u001b[39;00m \u001b[38;5;21;01mmatplotlib\u001b[39;00m\u001b[38;5;21;01m.\u001b[39;00m\u001b[38;5;21;01mpyplot\u001b[39;00m \u001b[38;5;28;01mas\u001b[39;00m \u001b[38;5;21;01mplt\u001b[39;00m\n\u001b[0;32m      4\u001b[0m \u001b[38;5;28;01mfrom\u001b[39;00m \u001b[38;5;21;01msklearn\u001b[39;00m\u001b[38;5;21;01m.\u001b[39;00m\u001b[38;5;21;01mcluster\u001b[39;00m \u001b[38;5;28;01mimport\u001b[39;00m KMeans\n\u001b[1;32m----> 5\u001b[0m \u001b[38;5;28;01mimport\u001b[39;00m \u001b[38;5;21;01mimutils\u001b[39;00m\n",
      "\u001b[1;31mModuleNotFoundError\u001b[0m: No module named 'imutils'"
     ]
    }
   ],
   "source": [
    "import cv2\n",
    "import numpy as np\n",
    "import matplotlib.pyplot as plt\n",
    "from sklearn.cluster import KMeans\n",
    "import imutils"
   ]
  },
  {
   "cell_type": "code",
   "execution_count": 2,
   "id": "3f1279ef",
   "metadata": {},
   "outputs": [
    {
     "name": "stdout",
     "output_type": "stream",
     "text": [
      "Collecting imutils\n",
      "  Using cached imutils-0.5.4.tar.gz (17 kB)\n",
      "Building wheels for collected packages: imutils\n",
      "  Building wheel for imutils (setup.py): started\n",
      "  Building wheel for imutils (setup.py): finished with status 'done'\n",
      "  Created wheel for imutils: filename=imutils-0.5.4-py3-none-any.whl size=25872 sha256=ccb4493520205cab1d084db4d7cd624f594d09a88a4914e84089ac31b3350ee8\n",
      "  Stored in directory: c:\\users\\shekh\\appdata\\local\\pip\\cache\\wheels\\4b\\a5\\2d\\4a070a801d3a3d93f033d3ee9728f470f514826e89952df3ea\n",
      "Successfully built imutils\n",
      "Installing collected packages: imutils\n",
      "Successfully installed imutils-0.5.4\n",
      "Note: you may need to restart the kernel to use updated packages.\n"
     ]
    }
   ],
   "source": [
    "pip install imutils"
   ]
  },
  {
   "cell_type": "code",
   "execution_count": 23,
   "id": "d203430b",
   "metadata": {},
   "outputs": [],
   "source": [
    "import cv2\n",
    "import numpy as np\n",
    "import matplotlib.pyplot as plt\n",
    "from sklearn.cluster import KMeans\n",
    "import imutils"
   ]
  },
  {
   "cell_type": "code",
   "execution_count": 24,
   "id": "2d1b7c23",
   "metadata": {},
   "outputs": [],
   "source": [
    "clusters = 3 # try changing it"
   ]
  },
  {
   "cell_type": "code",
   "execution_count": 40,
   "id": "7de21c26",
   "metadata": {},
   "outputs": [
    {
     "name": "stdout",
     "output_type": "stream",
     "text": [
      "Org image shape -->  (1280, 1016, 3)\n"
     ]
    }
   ],
   "source": [
    "img = cv2.imread('C:/Users/shekh/OneDrive/Desktop/PHOTO.jpg')\n",
    "org_img = img.copy()\n",
    "print('Org image shape --> ',img.shape)\n"
   ]
  },
  {
   "cell_type": "code",
   "execution_count": 41,
   "id": "f632e77b",
   "metadata": {},
   "outputs": [
    {
     "name": "stdout",
     "output_type": "stream",
     "text": [
      "After resizing shape -->  (200, 158, 3)\n"
     ]
    }
   ],
   "source": [
    "img = imutils.resize(img,height=200)\n",
    "print('After resizing shape --> ',img.shape)"
   ]
  },
  {
   "cell_type": "code",
   "execution_count": 42,
   "id": "2275080e",
   "metadata": {},
   "outputs": [
    {
     "name": "stdout",
     "output_type": "stream",
     "text": [
      "After Flattening shape -->  (31600, 3)\n"
     ]
    }
   ],
   "source": [
    "flat_img = np.reshape(img,(-1,3))\n",
    "print('After Flattening shape --> ',flat_img.shape)\n"
   ]
  },
  {
   "cell_type": "code",
   "execution_count": 43,
   "id": "91231a09",
   "metadata": {},
   "outputs": [
    {
     "data": {
      "text/plain": [
       "KMeans(n_clusters=3, random_state=0)"
      ]
     },
     "execution_count": 43,
     "metadata": {},
     "output_type": "execute_result"
    }
   ],
   "source": [
    "kmeans = KMeans(n_clusters=clusters,random_state=0)\n",
    "kmeans.fit(flat_img)"
   ]
  },
  {
   "cell_type": "code",
   "execution_count": 44,
   "id": "e2bcfeb0",
   "metadata": {},
   "outputs": [],
   "source": [
    "dominant_colors = np.array(kmeans.cluster_centers_,dtype='uint')"
   ]
  },
  {
   "cell_type": "code",
   "execution_count": 45,
   "id": "830f31f5",
   "metadata": {},
   "outputs": [],
   "source": [
    "percentages = (np.unique(kmeans.labels_,return_counts=True)[1])/flat_img.shape[0]\n",
    "p_and_c = zip(percentages,dominant_colors)\n",
    "p_and_c = sorted(p_and_c,reverse=True)"
   ]
  },
  {
   "cell_type": "code",
   "execution_count": 46,
   "id": "52b0bc0f",
   "metadata": {},
   "outputs": [
    {
     "data": {
      "image/png": "[encoded data removed]",
      "text/plain": [
       "<Figure size 864x576 with 3 Axes>"
      ]
     },
     "metadata": {},
     "output_type": "display_data"
    }
   ],
   "source": [
    "block = np.ones((50,50,3),dtype='uint')\n",
    "plt.figure(figsize=(12,8))\n",
    "for i in range(clusters):\n",
    "    plt.subplot(1,clusters,i+1)\n",
    "    block[:] = p_and_c[i][1][::-1] # we have done this to convert bgr(opencv) to rgb(matplotlib) \n",
    "    plt.imshow(block)\n",
    "    plt.xticks([])\n",
    "    plt.yticks([])\n",
    "    plt.xlabel(str(round(p_and_c[i][0]*100,2))+'%')"
   ]
  },
  {
   "cell_type": "code",
   "execution_count": 47,
   "id": "8ee08a3b",
   "metadata": {},
   "outputs": [
    {
     "data": {
      "image/png": "[encoded data removed]",
      "text/plain": [
       "<Figure size 864x576 with 1 Axes>"
      ]
     },
     "metadata": {
      "needs_background": "light"
     },
     "output_type": "display_data"
    }
   ],
   "source": [
    "bar = np.ones((50,500,3),dtype='uint')\n",
    "plt.figure(figsize=(12,8))\n",
    "plt.title('Proportions of colors in the image')\n",
    "start = 0\n",
    "i = 1\n",
    "for p,c in p_and_c:\n",
    "    end = start+int(p*bar.shape[1])\n",
    "    if i==clusters:\n",
    "        bar[:,start:] = c[::-1]\n",
    "    else:\n",
    "        bar[:,start:end] = c[::-1]\n",
    "    start = end\n",
    "    i+=1"
   ]
  },
  {
   "cell_type": "code",
   "execution_count": 48,
   "id": "1ba9868e",
   "metadata": {},
   "outputs": [
    {
     "data": {
      "text/plain": [
       "([], [])"
      ]
     },
     "execution_count": 48,
     "metadata": {},
     "output_type": "execute_result"
    },
    {
     "data": {
      "image/png": "[encoded data removed]",
      "text/plain": [
       "<Figure size 432x288 with 1 Axes>"
      ]
     },
     "metadata": {},
     "output_type": "display_data"
    }
   ],
   "source": [
    "plt.imshow(bar)\n",
    "plt.xticks([])\n",
    "plt.yticks([])"
   ]
  },
  {
   "cell_type": "code",
   "execution_count": 49,
   "id": "dad8afe2",
   "metadata": {},
   "outputs": [],
   "source": [
    "rows = 1000\n",
    "cols = int((org_img.shape[0]/org_img.shape[1])*rows)\n",
    "img = cv2.resize(org_img,dsize=(rows,cols),interpolation=cv2.INTER_LINEAR)\n"
   ]
  },
  {
   "cell_type": "code",
   "execution_count": 50,
   "id": "0279723a",
   "metadata": {},
   "outputs": [
    {
     "data": {
      "text/plain": [
       "array([[[230, 215, 182],\n",
       "        [230, 215, 182],\n",
       "        [230, 216, 180],\n",
       "        ...,\n",
       "        [229, 215, 167],\n",
       "        [230, 216, 168],\n",
       "        [231, 217, 169]],\n",
       "\n",
       "       [[230, 215, 182],\n",
       "        [230, 215, 182],\n",
       "        [230, 216, 180],\n",
       "        ...,\n",
       "        [228, 214, 166],\n",
       "        [229, 215, 167],\n",
       "        [229, 215, 167]],\n",
       "\n",
       "       [[229, 215, 179],\n",
       "        [229, 215, 179],\n",
       "        [230, 216, 180],\n",
       "        ...,\n",
       "        [227, 213, 165],\n",
       "        [227, 213, 165],\n",
       "        [228, 214, 166]],\n",
       "\n",
       "       ...,\n",
       "\n",
       "       [[225, 203, 161],\n",
       "        [224, 203, 158],\n",
       "        [224, 202, 160],\n",
       "        ...,\n",
       "        [146, 124, 107],\n",
       "        [167, 145, 125],\n",
       "        [176, 155, 134]],\n",
       "\n",
       "       [[225, 204, 159],\n",
       "        [225, 205, 158],\n",
       "        [224, 203, 158],\n",
       "        ...,\n",
       "        [145, 123, 105],\n",
       "        [166, 145, 124],\n",
       "        [178, 157, 136]],\n",
       "\n",
       "       [[225, 205, 158],\n",
       "        [225, 205, 158],\n",
       "        [225, 205, 158],\n",
       "        ...,\n",
       "        [143, 122, 103],\n",
       "        [166, 145, 124],\n",
       "        [179, 158, 137]]], dtype=uint8)"
      ]
     },
     "execution_count": 50,
     "metadata": {},
     "output_type": "execute_result"
    }
   ],
   "source": [
    "copy = img.copy()\n",
    "cv2.rectangle(copy,(rows//2-250,cols//2-90),(rows//2+250,cols//2+110),(255,255,255),-1)\n"
   ]
  },
  {
   "cell_type": "code",
   "execution_count": 51,
   "id": "00024fdb",
   "metadata": {},
   "outputs": [
    {
     "data": {
      "text/plain": [
       "array([[[230, 215, 182],\n",
       "        [230, 215, 182],\n",
       "        [230, 216, 180],\n",
       "        ...,\n",
       "        [229, 215, 167],\n",
       "        [230, 216, 168],\n",
       "        [231, 217, 169]],\n",
       "\n",
       "       [[230, 215, 182],\n",
       "        [230, 215, 182],\n",
       "        [230, 216, 180],\n",
       "        ...,\n",
       "        [228, 214, 166],\n",
       "        [229, 215, 167],\n",
       "        [229, 215, 167]],\n",
       "\n",
       "       [[229, 215, 179],\n",
       "        [229, 215, 179],\n",
       "        [230, 216, 180],\n",
       "        ...,\n",
       "        [227, 213, 165],\n",
       "        [227, 213, 165],\n",
       "        [228, 214, 166]],\n",
       "\n",
       "       ...,\n",
       "\n",
       "       [[225, 203, 161],\n",
       "        [224, 203, 158],\n",
       "        [224, 202, 160],\n",
       "        ...,\n",
       "        [146, 124, 107],\n",
       "        [167, 145, 125],\n",
       "        [176, 155, 134]],\n",
       "\n",
       "       [[225, 204, 159],\n",
       "        [225, 205, 158],\n",
       "        [224, 203, 158],\n",
       "        ...,\n",
       "        [145, 123, 105],\n",
       "        [166, 145, 124],\n",
       "        [178, 157, 136]],\n",
       "\n",
       "       [[225, 205, 158],\n",
       "        [225, 205, 158],\n",
       "        [225, 205, 158],\n",
       "        ...,\n",
       "        [143, 122, 103],\n",
       "        [166, 145, 124],\n",
       "        [179, 158, 137]]], dtype=uint8)"
      ]
     },
     "execution_count": 51,
     "metadata": {},
     "output_type": "execute_result"
    }
   ],
   "source": [
    "final = cv2.addWeighted(img,0.1,copy,0.9,0)\n",
    "cv2.putText(final,'Most Dominant Colors in the Image',(rows//2-230,cols//2-40),cv2.FONT_HERSHEY_DUPLEX,0.8,(0,0,0),1,cv2.LINE_AA)"
   ]
  },
  {
   "cell_type": "code",
   "execution_count": 52,
   "id": "0f828e15",
   "metadata": {},
   "outputs": [
    {
     "ename": "IndexError",
     "evalue": "list index out of range",
     "output_type": "error",
     "traceback": [
      "\u001b[1;31m---------------------------------------------------------------------------\u001b[0m",
      "\u001b[1;31mIndexError\u001b[0m                                Traceback (most recent call last)",
      "Input \u001b[1;32mIn [52]\u001b[0m, in \u001b[0;36m<cell line: 2>\u001b[1;34m()\u001b[0m\n\u001b[0;32m      2\u001b[0m \u001b[38;5;28;01mfor\u001b[39;00m i \u001b[38;5;129;01min\u001b[39;00m \u001b[38;5;28mrange\u001b[39m(\u001b[38;5;241m5\u001b[39m):\n\u001b[0;32m      3\u001b[0m     end \u001b[38;5;241m=\u001b[39m start\u001b[38;5;241m+\u001b[39m\u001b[38;5;241m70\u001b[39m\n\u001b[1;32m----> 4\u001b[0m     final[cols\u001b[38;5;241m/\u001b[39m\u001b[38;5;241m/\u001b[39m\u001b[38;5;241m2\u001b[39m:cols\u001b[38;5;241m/\u001b[39m\u001b[38;5;241m/\u001b[39m\u001b[38;5;241m2\u001b[39m\u001b[38;5;241m+\u001b[39m\u001b[38;5;241m70\u001b[39m,start:end] \u001b[38;5;241m=\u001b[39m \u001b[43mp_and_c\u001b[49m\u001b[43m[\u001b[49m\u001b[43mi\u001b[49m\u001b[43m]\u001b[49m[\u001b[38;5;241m1\u001b[39m]\n\u001b[0;32m      5\u001b[0m     cv2\u001b[38;5;241m.\u001b[39mputText(final,\u001b[38;5;28mstr\u001b[39m(i\u001b[38;5;241m+\u001b[39m\u001b[38;5;241m1\u001b[39m),(start\u001b[38;5;241m+\u001b[39m\u001b[38;5;241m25\u001b[39m,cols\u001b[38;5;241m/\u001b[39m\u001b[38;5;241m/\u001b[39m\u001b[38;5;241m2\u001b[39m\u001b[38;5;241m+\u001b[39m\u001b[38;5;241m45\u001b[39m),cv2\u001b[38;5;241m.\u001b[39mFONT_HERSHEY_DUPLEX,\u001b[38;5;241m1\u001b[39m,(\u001b[38;5;241m255\u001b[39m,\u001b[38;5;241m255\u001b[39m,\u001b[38;5;241m255\u001b[39m),\u001b[38;5;241m1\u001b[39m,cv2\u001b[38;5;241m.\u001b[39mLINE_AA)\n\u001b[0;32m      6\u001b[0m     start \u001b[38;5;241m=\u001b[39m end\u001b[38;5;241m+\u001b[39m\u001b[38;5;241m20\u001b[39m\n",
      "\u001b[1;31mIndexError\u001b[0m: list index out of range"
     ]
    }
   ],
   "source": [
    "start = rows//2-220\n",
    "for i in range(5):\n",
    "    end = start+70\n",
    "    final[cols//2:cols//2+70,start:end] = p_and_c[i][1]\n",
    "    cv2.putText(final,str(i+1),(start+25,cols//2+45),cv2.FONT_HERSHEY_DUPLEX,1,(255,255,255),1,cv2.LINE_AA)\n",
    "    start = end+20"
   ]
  },
  {
   "cell_type": "code",
   "execution_count": 53,
   "id": "cb2259c1",
   "metadata": {},
   "outputs": [],
   "source": [
    "plt.show()"
   ]
  },
  {
   "cell_type": "code",
   "execution_count": 54,
   "id": "721f1b56",
   "metadata": {},
   "outputs": [
    {
     "data": {
      "text/plain": [
       "True"
      ]
     },
     "execution_count": 54,
     "metadata": {},
     "output_type": "execute_result"
    }
   ],
   "source": [
    "cv2.imshow('img',final)\n",
    "cv2.waitKey(0)\n",
    "cv2.destroyAllWindows()\n",
    "cv2.imwrite('output.png',final)"
   ]
  },
  {
   "cell_type": "code",
   "execution_count": null,
   "id": "072f5b64",
   "metadata": {},
   "outputs": [],
   "source": []
  }
 ],
 "metadata": {
  "kernelspec": {
   "display_name": "Python 3 (ipykernel)",
   "language": "python",
   "name": "python3"
  },
  "language_info": {
   "codemirror_mode": {
    "name": "ipython",
    "version": 3
   },
   "file_extension": ".py",
   "mimetype": "text/x-python",
   "name": "python",
   "nbconvert_exporter": "python",
   "pygments_lexer": "ipython3",
   "version": "3.9.12"
  }
 },
 "nbformat": 4,
 "nbformat_minor": 5
}
